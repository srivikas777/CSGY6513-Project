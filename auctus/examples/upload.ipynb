{
 "cells": [
  {
   "cell_type": "code",
   "execution_count": 1,
   "metadata": {},
   "outputs": [],
   "source": [
    "import requests"
   ]
  },
  {
   "cell_type": "markdown",
   "metadata": {},
   "source": [
    "# Example ingestion from URL\n",
    "\n",
    "https://github.com/remram44/coronavirus-data/blob/historical/tests-by-zcta.historical.csv"
   ]
  },
  {
   "cell_type": "markdown",
   "metadata": {},
   "source": [
    "## Step 1: Get direct link to file\n",
    "\n",
    "You have to use the direct link to a support file (CSV, Excel, SPSS, ...) not a page where it is embedded. We click the \"raw\" button on GitHub and get:"
   ]
  },
  {
   "cell_type": "code",
   "execution_count": 2,
   "metadata": {},
   "outputs": [],
   "source": [
    "url = \"https://raw.githubusercontent.com/remram44/coronavirus-data/historical/tests-by-zcta.historical.csv\""
   ]
  },
  {
   "cell_type": "markdown",
   "metadata": {},
   "source": [
    "## Step 2: Assemble some metadata"
   ]
  },
  {
   "cell_type": "code",
   "execution_count": 3,
   "metadata": {},
   "outputs": [],
   "source": [
    "name = \"NYC Coronavirus (COVID-19) data\"\n",
    "description = (\n",
    "    \"Data are assembled by the NYC Department of Health and Mental Hygiene \" +\n",
    "    \"(DOHMH) Incident Command System for COVID-19 Response (Surveillance and \" +\n",
    "    \"Epidemiology Branch in collaboration with Public Information Office Branch). \" +\n",
    "    \"You can view these data on the Department of Health's website. Note that \" +\n",
    "    \"data are being collected in real-time and are preliminary and subject to \" +\n",
    "    \"change as COVID-19 response continues.\"\n",
    ")"
   ]
  },
  {
   "cell_type": "markdown",
   "metadata": {},
   "source": [
    "## Step 3: Issue POST request to Datamart to register the dataset"
   ]
  },
  {
   "cell_type": "code",
   "execution_count": 4,
   "metadata": {},
   "outputs": [
    {
     "data": {
      "text/plain": [
       "{'id': 'datamart.url.9a47f900c06943ecb731d6213a5b883c'}"
      ]
     },
     "execution_count": 4,
     "metadata": {},
     "output_type": "execute_result"
    }
   ],
   "source": [
    "response = requests.post(\n",
    "    'https://auctus.vida-nyu.org/api/v1/upload',\n",
    "    data={\n",
    "        \"name\": name,\n",
    "        \"description\": description,\n",
    "        \"address\": url,\n",
    "    }\n",
    ")\n",
    "response.raise_for_status()\n",
    "dataset_id = response.json()['id']\n",
    "response.json()"
   ]
  },
  {
   "cell_type": "markdown",
   "metadata": {},
   "source": [
    "## Step 4: Wait for profiling to end, get result\n",
    "\n",
    "Here profiling is almost instant, but can take more time if the data is big, addresses need to be resolved, locations need to be clustered, etc."
   ]
  },
  {
   "cell_type": "code",
   "execution_count": 5,
   "metadata": {
    "scrolled": true
   },
   "outputs": [
    {
     "data": {
      "text/plain": [
       "{'id': 'datamart.url.9a47f900c06943ecb731d6213a5b883c',\n",
       " 'status': 'indexed',\n",
       " 'metadata': {'name': 'NYC Coronavirus (COVID-19) data',\n",
       "  'source': 'upload',\n",
       "  'description': \"Data are assembled by the NYC Department of Health and Mental Hygiene (DOHMH) Incident Command System for COVID-19 Response (Surveillance and Epidemiology Branch in collaboration with Public Information Office Branch). You can view these data on the Department of Health's website. Note that data are being collected in real-time and are preliminary and subject to change as COVID-19 response continues.\",\n",
       "  'date': '2020-06-12T00:00:08.011577Z',\n",
       "  'size': 398039,\n",
       "  'nb_rows': 8332,\n",
       "  'nb_profiled_rows': 8332,\n",
       "  'columns': [{'name': 'date',\n",
       "    'structural_type': 'http://schema.org/Text',\n",
       "    'semantic_types': ['http://schema.org/Enumeration',\n",
       "     'http://schema.org/DateTime'],\n",
       "    'num_distinct_values': 47,\n",
       "    'mean': 1587918818.918867,\n",
       "    'stddev': 1185682.3387396699,\n",
       "    'coverage': [{'range': {'gte': 1585758976.0, 'lte': 1587061760.0}},\n",
       "     {'range': {'gte': 1587148032.0, 'lte': 1588446848.0}},\n",
       "     {'range': {'gte': 1588526848.0, 'lte': 1589912064.0}}],\n",
       "    'temporal_resolution': 'day',\n",
       "    'plot': {'type': 'histogram_categorical',\n",
       "     'data': [{'bin': '2020-04-01T12:35:56-04:00', 'count': 178},\n",
       "      {'bin': '2020-04-03T18:56:56-04:00', 'count': 178},\n",
       "      {'bin': '2020-04-08T18:03:33-04:00', 'count': 178},\n",
       "      {'bin': '2020-04-09T17:31:46-04:00', 'count': 178},\n",
       "      {'bin': '2020-04-10T17:41:39-04:00', 'count': 178}]}},\n",
       "   {'name': 'MODZCTA',\n",
       "    'structural_type': 'http://schema.org/Integer',\n",
       "    'semantic_types': [],\n",
       "    'unclean_values_ratio': 0.005640902544407105,\n",
       "    'num_distinct_values': 179,\n",
       "    'mean': 10766.976116178588,\n",
       "    'stddev': 1497.0943885593279,\n",
       "    'plot': {'type': 'histogram_numerical',\n",
       "     'data': [{'count': 8283, 'bin_start': 10001.0, 'bin_end': 19000.8},\n",
       "      {'count': 0, 'bin_start': 19000.8, 'bin_end': 28000.6},\n",
       "      {'count': 0, 'bin_start': 28000.6, 'bin_end': 37000.399999999994},\n",
       "      {'count': 0, 'bin_start': 37000.399999999994, 'bin_end': 46000.2},\n",
       "      {'count': 0, 'bin_start': 46000.2, 'bin_end': 55000.0},\n",
       "      {'count': 0, 'bin_start': 55000.0, 'bin_end': 63999.799999999996},\n",
       "      {'count': 0,\n",
       "       'bin_start': 63999.799999999996,\n",
       "       'bin_end': 72999.59999999999},\n",
       "      {'count': 0, 'bin_start': 72999.59999999999, 'bin_end': 81999.4},\n",
       "      {'count': 0, 'bin_start': 81999.4, 'bin_end': 90999.2},\n",
       "      {'count': 2, 'bin_start': 90999.2, 'bin_end': 99999.0}]},\n",
       "    'coverage': [{'range': {'gte': 10005.0, 'lte': 10471.0}},\n",
       "     {'range': {'gte': 11104.0, 'lte': 11436.0}}]},\n",
       "   {'name': 'Positive',\n",
       "    'structural_type': 'http://schema.org/Integer',\n",
       "    'semantic_types': [],\n",
       "    'unclean_values_ratio': 0.0,\n",
       "    'num_distinct_values': 2240,\n",
       "    'mean': 820.4588334133462,\n",
       "    'stddev': 682.1428565380272,\n",
       "    'plot': {'type': 'histogram_numerical',\n",
       "     'data': [{'count': 4091, 'bin_start': 0.0, 'bin_end': 592.1},\n",
       "      {'count': 2263, 'bin_start': 592.1, 'bin_end': 1184.2},\n",
       "      {'count': 1173, 'bin_start': 1184.2, 'bin_end': 1776.3000000000002},\n",
       "      {'count': 567, 'bin_start': 1776.3000000000002, 'bin_end': 2368.4},\n",
       "      {'count': 139, 'bin_start': 2368.4, 'bin_end': 2960.5},\n",
       "      {'count': 47, 'bin_start': 2960.5, 'bin_end': 3552.6000000000004},\n",
       "      {'count': 25, 'bin_start': 3552.6000000000004, 'bin_end': 4144.7},\n",
       "      {'count': 15, 'bin_start': 4144.7, 'bin_end': 4736.8},\n",
       "      {'count': 7, 'bin_start': 4736.8, 'bin_end': 5328.900000000001},\n",
       "      {'count': 5, 'bin_start': 5328.900000000001, 'bin_end': 5921.0}]},\n",
       "    'coverage': [{'range': {'gte': 45.0, 'lte': 724.0}},\n",
       "     {'range': {'gte': 822.0, 'lte': 1654.0}},\n",
       "     {'range': {'gte': 1778.0, 'lte': 3702.0}}]},\n",
       "   {'name': 'Total',\n",
       "    'structural_type': 'http://schema.org/Integer',\n",
       "    'semantic_types': [],\n",
       "    'unclean_values_ratio': 0.0,\n",
       "    'num_distinct_values': 3605,\n",
       "    'mean': 1712.3076092174747,\n",
       "    'stddev': 1388.7722265509449,\n",
       "    'plot': {'type': 'histogram_numerical',\n",
       "     'data': [{'count': 3219, 'bin_start': 3.0, 'bin_end': 1011.5},\n",
       "      {'count': 2551, 'bin_start': 1011.5, 'bin_end': 2020.0},\n",
       "      {'count': 1252, 'bin_start': 2020.0, 'bin_end': 3028.5},\n",
       "      {'count': 648, 'bin_start': 3028.5, 'bin_end': 4037.0},\n",
       "      {'count': 393, 'bin_start': 4037.0, 'bin_end': 5045.5},\n",
       "      {'count': 171, 'bin_start': 5045.5, 'bin_end': 6054.0},\n",
       "      {'count': 65, 'bin_start': 6054.0, 'bin_end': 7062.5},\n",
       "      {'count': 22, 'bin_start': 7062.5, 'bin_end': 8071.0},\n",
       "      {'count': 7, 'bin_start': 8071.0, 'bin_end': 9079.5},\n",
       "      {'count': 4, 'bin_start': 9079.5, 'bin_end': 10088.0}]},\n",
       "    'coverage': [{'range': {'gte': 130.0, 'lte': 1441.0}},\n",
       "     {'range': {'gte': 1594.0, 'lte': 3288.0}},\n",
       "     {'range': {'gte': 3552.0, 'lte': 6727.0}}]},\n",
       "   {'name': 'zcta_cum.perc_pos',\n",
       "    'structural_type': 'http://schema.org/Float',\n",
       "    'semantic_types': [],\n",
       "    'unclean_values_ratio': 0.00024003840614498319,\n",
       "    'missing_values_ratio': 0.021363418146903505,\n",
       "    'mean': 45.78814690350438,\n",
       "    'stddev': 11.594191414255787,\n",
       "    'plot': {'type': 'histogram_numerical',\n",
       "     'data': [{'count': 209, 'bin_start': 15.72, 'bin_end': 24.14},\n",
       "      {'count': 657, 'bin_start': 24.14, 'bin_end': 32.56},\n",
       "      {'count': 1742, 'bin_start': 32.56, 'bin_end': 40.98},\n",
       "      {'count': 2250, 'bin_start': 40.98, 'bin_end': 49.4},\n",
       "      {'count': 1740, 'bin_start': 49.4, 'bin_end': 57.82},\n",
       "      {'count': 1319, 'bin_start': 57.82, 'bin_end': 66.24},\n",
       "      {'count': 161, 'bin_start': 66.24, 'bin_end': 74.66},\n",
       "      {'count': 28, 'bin_start': 74.66, 'bin_end': 83.08},\n",
       "      {'count': 30, 'bin_start': 83.08, 'bin_end': 91.5},\n",
       "      {'count': 16, 'bin_start': 91.5, 'bin_end': 99.92}]},\n",
       "    'coverage': [{'range': {'gte': 21.7, 'lte': 38.91}},\n",
       "     {'range': {'gte': 40.03, 'lte': 52.39}},\n",
       "     {'range': {'gte': 53.73, 'lte': 69.72}}]}],\n",
       "  'sample': 'date,MODZCTA,Positive,Total,zcta_cum.perc_pos\\n2020-04-05T17:30:00-04:00,10453,619,983,62.97\\n2020-04-08T18:03:33-04:00,10033,474,779,60.85\\n2020-04-12T18:22:47-04:00,11232,267,395,67.59\\n2020-04-12T18:22:47-04:00,11693,197,334,58.98\\n2020-04-13T17:55:07-04:00,11412,706,1111,63.55\\n2020-04-16T14:28:26-04:00,10044,103,224,45.98\\n2020-04-24T14:28:13-04:00,11378,567,1124,50.44\\n2020-04-26T13:57:39-04:00,11210,2819,1558,55.27\\n2020-05-04T12:58:22-04:00,10451,1418,3008,47.14\\n2020-05-04T12:58:22-04:00,10467,2931,6140,47.74\\n2020-05-06T12:57:39-04:00,11234,2031,4469,45.45\\n2020-05-08T12:58:01-04:00,10069,46,177,25.99\\n2020-05-08T12:58:01-04:00,11109,46,204,22.55\\n2020-05-09T12:28:07-04:00,10029,1613,3910,41.25\\n2020-05-10T13:43:31-04:00,10018,196,610,32.13\\n2020-05-13T12:27:39-04:00,10075,348,1246,27.93\\n2020-05-13T12:27:39-04:00,11215,561,2038,27.53\\n2020-05-13T12:27:39-04:00,11368,4082,7747,52.69\\n2020-05-16T13:38:54-04:00,11109,46,269,17.1\\n2020-05-17T13:44:09-04:00,11224,1072,2883,37.18\\n',\n",
       "  'materialize': {'identifier': 'datamart.url',\n",
       "   'direct_url': 'https://raw.githubusercontent.com/remram44/coronavirus-data/historical/tests-by-zcta.historical.csv',\n",
       "   'date': '2020-04-18T01:44:14.693479Z'},\n",
       "  'version': 'v0.6.1-27-g896e244',\n",
       "  'id': 'datamart.url.9a47f900c06943ecb731d6213a5b883c'},\n",
       " 'd3m_dataset_description': {'about': {'datasetID': 'datamart.url.9a47f900c06943ecb731d6213a5b883c',\n",
       "   'datasetName': 'NYC Coronavirus (COVID-19) data',\n",
       "   'license': 'unknown',\n",
       "   'approximateSize': '398039 B',\n",
       "   'datasetSchemaVersion': '4.0.0',\n",
       "   'redacted': False,\n",
       "   'datasetVersion': '1.0',\n",
       "   'description': \"Data are assembled by the NYC Department of Health and Mental Hygiene (DOHMH) Incident Command System for COVID-19 Response (Surveillance and Epidemiology Branch in collaboration with Public Information Office Branch). You can view these data on the Department of Health's website. Note that data are being collected in real-time and are preliminary and subject to change as COVID-19 response continues.\"},\n",
       "  'dataResources': [{'resID': 'learningData',\n",
       "    'resPath': 'tables/learningData.csv',\n",
       "    'resType': 'table',\n",
       "    'resFormat': {'text/csv': ['csv']},\n",
       "    'isCollection': False,\n",
       "    'columns': [{'colIndex': 0,\n",
       "      'colName': 'date',\n",
       "      'colType': 'categorical',\n",
       "      'role': ['attribute']},\n",
       "     {'colIndex': 1,\n",
       "      'colName': 'MODZCTA',\n",
       "      'colType': 'integer',\n",
       "      'role': ['attribute']},\n",
       "     {'colIndex': 2,\n",
       "      'colName': 'Positive',\n",
       "      'colType': 'integer',\n",
       "      'role': ['attribute']},\n",
       "     {'colIndex': 3,\n",
       "      'colName': 'Total',\n",
       "      'colType': 'integer',\n",
       "      'role': ['attribute']},\n",
       "     {'colIndex': 4,\n",
       "      'colName': 'zcta_cum.perc_pos',\n",
       "      'colType': 'real',\n",
       "      'role': ['attribute']}]}]}}"
      ]
     },
     "execution_count": 5,
     "metadata": {},
     "output_type": "execute_result"
    }
   ],
   "source": [
    "response = requests.get('https://auctus.vida-nyu.org/api/v1/metadata/' + dataset_id)\n",
    "response.raise_for_status()\n",
    "response.json()"
   ]
  },
  {
   "cell_type": "markdown",
   "metadata": {},
   "source": [
    "# Example ingestion by file upload"
   ]
  },
  {
   "cell_type": "markdown",
   "metadata": {},
   "source": [
    "## Step 1: Get file in supported format\n",
    "\n",
    "Get a file in a supported file format (Excel, SPSS, ... will be converted to CSV for you)."
   ]
  },
  {
   "cell_type": "code",
   "execution_count": 6,
   "metadata": {},
   "outputs": [],
   "source": [
    "dataset = open('tests-by-zcta.historical.csv', 'rb')"
   ]
  },
  {
   "cell_type": "markdown",
   "metadata": {},
   "source": [
    "## Step 2: Assemble some metadata"
   ]
  },
  {
   "cell_type": "code",
   "execution_count": 7,
   "metadata": {},
   "outputs": [],
   "source": [
    "name = \"NYC Coronavirus (COVID-19) data\"\n",
    "description = (\n",
    "    \"Data are assembled by the NYC Department of Health and Mental Hygiene \" +\n",
    "    \"(DOHMH) Incident Command System for COVID-19 Response (Surveillance and \" +\n",
    "    \"Epidemiology Branch in collaboration with Public Information Office Branch). \" +\n",
    "    \"You can view these data on the Department of Health's website. Note that \" +\n",
    "    \"data are being collected in real-time and are preliminary and subject to \" +\n",
    "    \"change as COVID-19 response continues.\"\n",
    ")"
   ]
  },
  {
   "cell_type": "markdown",
   "metadata": {},
   "source": [
    "## Step 3: Issue POST request to Datamart to register the dataset"
   ]
  },
  {
   "cell_type": "code",
   "execution_count": 8,
   "metadata": {},
   "outputs": [
    {
     "data": {
      "text/plain": [
       "{'id': 'datamart.upload.177d01411ce744be99bf47cc705cf6cf'}"
      ]
     },
     "execution_count": 8,
     "metadata": {},
     "output_type": "execute_result"
    }
   ],
   "source": [
    "response = requests.post(\n",
    "    'https://auctus.vida-nyu.org/api/v1/upload',\n",
    "    data={\n",
    "        \"name\": name,\n",
    "        \"description\": description,\n",
    "    },\n",
    "    files={'file': dataset}\n",
    ")\n",
    "response.raise_for_status()\n",
    "dataset_id = response.json()['id']\n",
    "response.json()"
   ]
  },
  {
   "cell_type": "markdown",
   "metadata": {},
   "source": [
    "## Step 4: Wait for profiling to end, get result"
   ]
  },
  {
   "cell_type": "code",
   "execution_count": 9,
   "metadata": {
    "scrolled": true
   },
   "outputs": [
    {
     "data": {
      "text/plain": [
       "{'id': 'datamart.upload.177d01411ce744be99bf47cc705cf6cf',\n",
       " 'status': 'indexed',\n",
       " 'metadata': {'filename': 'tests-by-zcta.historical.csv',\n",
       "  'name': 'NYC Coronavirus (COVID-19) data',\n",
       "  'source': 'upload',\n",
       "  'description': \"Data are assembled by the NYC Department of Health and Mental Hygiene (DOHMH) Incident Command System for COVID-19 Response (Surveillance and Epidemiology Branch in collaboration with Public Information Office Branch). You can view these data on the Department of Health's website. Note that data are being collected in real-time and are preliminary and subject to change as COVID-19 response continues.\",\n",
       "  'size': 398039,\n",
       "  'nb_rows': 8332,\n",
       "  'nb_profiled_rows': 8332,\n",
       "  'columns': [{'name': 'date',\n",
       "    'structural_type': 'http://schema.org/Text',\n",
       "    'semantic_types': ['http://schema.org/Enumeration',\n",
       "     'http://schema.org/DateTime'],\n",
       "    'num_distinct_values': 47,\n",
       "    'mean': 1587918818.918867,\n",
       "    'stddev': 1185682.3387396699,\n",
       "    'coverage': [{'range': {'gte': 1585758976.0, 'lte': 1587061760.0}},\n",
       "     {'range': {'gte': 1587148032.0, 'lte': 1588446848.0}},\n",
       "     {'range': {'gte': 1588526848.0, 'lte': 1589912064.0}}],\n",
       "    'temporal_resolution': 'day',\n",
       "    'plot': {'type': 'histogram_categorical',\n",
       "     'data': [{'bin': '2020-04-01T12:35:56-04:00', 'count': 178},\n",
       "      {'bin': '2020-04-03T18:56:56-04:00', 'count': 178},\n",
       "      {'bin': '2020-04-08T18:03:33-04:00', 'count': 178},\n",
       "      {'bin': '2020-04-09T17:31:46-04:00', 'count': 178},\n",
       "      {'bin': '2020-04-10T17:41:39-04:00', 'count': 178}]}},\n",
       "   {'name': 'MODZCTA',\n",
       "    'structural_type': 'http://schema.org/Integer',\n",
       "    'semantic_types': [],\n",
       "    'unclean_values_ratio': 0.005640902544407105,\n",
       "    'num_distinct_values': 179,\n",
       "    'mean': 10766.976116178588,\n",
       "    'stddev': 1497.0943885593279,\n",
       "    'plot': {'type': 'histogram_numerical',\n",
       "     'data': [{'count': 8283, 'bin_start': 10001.0, 'bin_end': 19000.8},\n",
       "      {'count': 0, 'bin_start': 19000.8, 'bin_end': 28000.6},\n",
       "      {'count': 0, 'bin_start': 28000.6, 'bin_end': 37000.399999999994},\n",
       "      {'count': 0, 'bin_start': 37000.399999999994, 'bin_end': 46000.2},\n",
       "      {'count': 0, 'bin_start': 46000.2, 'bin_end': 55000.0},\n",
       "      {'count': 0, 'bin_start': 55000.0, 'bin_end': 63999.799999999996},\n",
       "      {'count': 0,\n",
       "       'bin_start': 63999.799999999996,\n",
       "       'bin_end': 72999.59999999999},\n",
       "      {'count': 0, 'bin_start': 72999.59999999999, 'bin_end': 81999.4},\n",
       "      {'count': 0, 'bin_start': 81999.4, 'bin_end': 90999.2},\n",
       "      {'count': 2, 'bin_start': 90999.2, 'bin_end': 99999.0}]},\n",
       "    'coverage': [{'range': {'gte': 10005.0, 'lte': 10471.0}},\n",
       "     {'range': {'gte': 11104.0, 'lte': 11436.0}}]},\n",
       "   {'name': 'Positive',\n",
       "    'structural_type': 'http://schema.org/Integer',\n",
       "    'semantic_types': [],\n",
       "    'unclean_values_ratio': 0.0,\n",
       "    'num_distinct_values': 2240,\n",
       "    'mean': 820.4588334133462,\n",
       "    'stddev': 682.1428565380272,\n",
       "    'plot': {'type': 'histogram_numerical',\n",
       "     'data': [{'count': 4091, 'bin_start': 0.0, 'bin_end': 592.1},\n",
       "      {'count': 2263, 'bin_start': 592.1, 'bin_end': 1184.2},\n",
       "      {'count': 1173, 'bin_start': 1184.2, 'bin_end': 1776.3000000000002},\n",
       "      {'count': 567, 'bin_start': 1776.3000000000002, 'bin_end': 2368.4},\n",
       "      {'count': 139, 'bin_start': 2368.4, 'bin_end': 2960.5},\n",
       "      {'count': 47, 'bin_start': 2960.5, 'bin_end': 3552.6000000000004},\n",
       "      {'count': 25, 'bin_start': 3552.6000000000004, 'bin_end': 4144.7},\n",
       "      {'count': 15, 'bin_start': 4144.7, 'bin_end': 4736.8},\n",
       "      {'count': 7, 'bin_start': 4736.8, 'bin_end': 5328.900000000001},\n",
       "      {'count': 5, 'bin_start': 5328.900000000001, 'bin_end': 5921.0}]},\n",
       "    'coverage': [{'range': {'gte': 45.0, 'lte': 724.0}},\n",
       "     {'range': {'gte': 822.0, 'lte': 1654.0}},\n",
       "     {'range': {'gte': 1778.0, 'lte': 3702.0}}]},\n",
       "   {'name': 'Total',\n",
       "    'structural_type': 'http://schema.org/Integer',\n",
       "    'semantic_types': [],\n",
       "    'unclean_values_ratio': 0.0,\n",
       "    'num_distinct_values': 3605,\n",
       "    'mean': 1712.3076092174747,\n",
       "    'stddev': 1388.7722265509449,\n",
       "    'plot': {'type': 'histogram_numerical',\n",
       "     'data': [{'count': 3219, 'bin_start': 3.0, 'bin_end': 1011.5},\n",
       "      {'count': 2551, 'bin_start': 1011.5, 'bin_end': 2020.0},\n",
       "      {'count': 1252, 'bin_start': 2020.0, 'bin_end': 3028.5},\n",
       "      {'count': 648, 'bin_start': 3028.5, 'bin_end': 4037.0},\n",
       "      {'count': 393, 'bin_start': 4037.0, 'bin_end': 5045.5},\n",
       "      {'count': 171, 'bin_start': 5045.5, 'bin_end': 6054.0},\n",
       "      {'count': 65, 'bin_start': 6054.0, 'bin_end': 7062.5},\n",
       "      {'count': 22, 'bin_start': 7062.5, 'bin_end': 8071.0},\n",
       "      {'count': 7, 'bin_start': 8071.0, 'bin_end': 9079.5},\n",
       "      {'count': 4, 'bin_start': 9079.5, 'bin_end': 10088.0}]},\n",
       "    'coverage': [{'range': {'gte': 130.0, 'lte': 1441.0}},\n",
       "     {'range': {'gte': 1594.0, 'lte': 3288.0}},\n",
       "     {'range': {'gte': 3552.0, 'lte': 6727.0}}]},\n",
       "   {'name': 'zcta_cum.perc_pos',\n",
       "    'structural_type': 'http://schema.org/Float',\n",
       "    'semantic_types': [],\n",
       "    'unclean_values_ratio': 0.00024003840614498319,\n",
       "    'missing_values_ratio': 0.021363418146903505,\n",
       "    'mean': 45.78814690350438,\n",
       "    'stddev': 11.594191414255787,\n",
       "    'plot': {'type': 'histogram_numerical',\n",
       "     'data': [{'count': 209, 'bin_start': 15.72, 'bin_end': 24.14},\n",
       "      {'count': 657, 'bin_start': 24.14, 'bin_end': 32.56},\n",
       "      {'count': 1742, 'bin_start': 32.56, 'bin_end': 40.98},\n",
       "      {'count': 2250, 'bin_start': 40.98, 'bin_end': 49.4},\n",
       "      {'count': 1740, 'bin_start': 49.4, 'bin_end': 57.82},\n",
       "      {'count': 1319, 'bin_start': 57.82, 'bin_end': 66.24},\n",
       "      {'count': 161, 'bin_start': 66.24, 'bin_end': 74.66},\n",
       "      {'count': 28, 'bin_start': 74.66, 'bin_end': 83.08},\n",
       "      {'count': 30, 'bin_start': 83.08, 'bin_end': 91.5},\n",
       "      {'count': 16, 'bin_start': 91.5, 'bin_end': 99.92}]},\n",
       "    'coverage': [{'range': {'gte': 21.7, 'lte': 38.91}},\n",
       "     {'range': {'gte': 40.03, 'lte': 52.39}},\n",
       "     {'range': {'gte': 53.73, 'lte': 69.72}}]}],\n",
       "  'sample': 'date,MODZCTA,Positive,Total,zcta_cum.perc_pos\\r\\n2020-04-05T17:30:00-04:00,10453,619,983,62.97\\r\\n2020-04-08T18:03:33-04:00,10033,474,779,60.85\\r\\n2020-04-12T18:22:47-04:00,11232,267,395,67.59\\r\\n2020-04-12T18:22:47-04:00,11693,197,334,58.98\\r\\n2020-04-13T17:55:07-04:00,11412,706,1111,63.55\\r\\n2020-04-16T14:28:26-04:00,10044,103,224,45.98\\r\\n2020-04-24T14:28:13-04:00,11378,567,1124,50.44\\r\\n2020-04-26T13:57:39-04:00,11210,2819,1558,55.27\\r\\n2020-05-04T12:58:22-04:00,10451,1418,3008,47.14\\r\\n2020-05-04T12:58:22-04:00,10467,2931,6140,47.74\\r\\n2020-05-06T12:57:39-04:00,11234,2031,4469,45.45\\r\\n2020-05-08T12:58:01-04:00,10069,46,177,25.99\\r\\n2020-05-08T12:58:01-04:00,11109,46,204,22.55\\r\\n2020-05-09T12:28:07-04:00,10029,1613,3910,41.25\\r\\n2020-05-10T13:43:31-04:00,10018,196,610,32.13\\r\\n2020-05-13T12:27:39-04:00,10075,348,1246,27.93\\r\\n2020-05-13T12:27:39-04:00,11215,561,2038,27.53\\r\\n2020-05-13T12:27:39-04:00,11368,4082,7747,52.69\\r\\n2020-05-16T13:38:54-04:00,11109,46,269,17.1\\r\\n2020-05-17T13:44:09-04:00,11224,1072,2883,37.18\\r\\n',\n",
       "  'materialize': {'identifier': 'datamart.upload',\n",
       "   'date': '2020-06-24T17:14:14.784161Z'},\n",
       "  'date': '2020-06-24T17:14:21.319249Z',\n",
       "  'version': 'v0.6.1-63-ga7271b4',\n",
       "  'id': 'datamart.upload.177d01411ce744be99bf47cc705cf6cf'},\n",
       " 'd3m_dataset_description': {'about': {'datasetID': 'datamart.upload.177d01411ce744be99bf47cc705cf6cf',\n",
       "   'datasetName': 'NYC Coronavirus (COVID-19) data',\n",
       "   'license': 'unknown',\n",
       "   'approximateSize': '398039 B',\n",
       "   'datasetSchemaVersion': '4.0.0',\n",
       "   'redacted': False,\n",
       "   'datasetVersion': '1.0',\n",
       "   'description': \"Data are assembled by the NYC Department of Health and Mental Hygiene (DOHMH) Incident Command System for COVID-19 Response (Surveillance and Epidemiology Branch in collaboration with Public Information Office Branch). You can view these data on the Department of Health's website. Note that data are being collected in real-time and are preliminary and subject to change as COVID-19 response continues.\"},\n",
       "  'dataResources': [{'resID': 'learningData',\n",
       "    'resPath': 'tables/learningData.csv',\n",
       "    'resType': 'table',\n",
       "    'resFormat': {'text/csv': ['csv']},\n",
       "    'isCollection': False,\n",
       "    'columns': [{'colIndex': 0,\n",
       "      'colName': 'date',\n",
       "      'colType': 'categorical',\n",
       "      'role': ['attribute']},\n",
       "     {'colIndex': 1,\n",
       "      'colName': 'MODZCTA',\n",
       "      'colType': 'integer',\n",
       "      'role': ['attribute']},\n",
       "     {'colIndex': 2,\n",
       "      'colName': 'Positive',\n",
       "      'colType': 'integer',\n",
       "      'role': ['attribute']},\n",
       "     {'colIndex': 3,\n",
       "      'colName': 'Total',\n",
       "      'colType': 'integer',\n",
       "      'role': ['attribute']},\n",
       "     {'colIndex': 4,\n",
       "      'colName': 'zcta_cum.perc_pos',\n",
       "      'colType': 'real',\n",
       "      'role': ['attribute']}]}]}}"
      ]
     },
     "execution_count": 9,
     "metadata": {},
     "output_type": "execute_result"
    }
   ],
   "source": [
    "response = requests.get('https://auctus.vida-nyu.org/api/v1/metadata/' + dataset_id)\n",
    "response.raise_for_status()\n",
    "response.json()"
   ]
  },
  {
   "cell_type": "markdown",
   "metadata": {},
   "source": [
    "# Bonus: profile a file without adding it to the index"
   ]
  },
  {
   "cell_type": "code",
   "execution_count": 10,
   "metadata": {},
   "outputs": [],
   "source": [
    "# If reusing the file you already sent through requests.post(), you need to rewind it\n",
    "dataset.seek(0, 0)"
   ]
  },
  {
   "cell_type": "code",
   "execution_count": 11,
   "metadata": {
    "scrolled": true
   },
   "outputs": [
    {
     "data": {
      "text/plain": [
       "{'size': 398039,\n",
       " 'nb_rows': 8332,\n",
       " 'nb_profiled_rows': 8332,\n",
       " 'columns': [{'name': 'date',\n",
       "   'structural_type': 'http://schema.org/Text',\n",
       "   'semantic_types': ['http://schema.org/Enumeration',\n",
       "    'http://schema.org/DateTime'],\n",
       "   'num_distinct_values': 47,\n",
       "   'mean': 1587918818.918867,\n",
       "   'stddev': 1185682.3387396699,\n",
       "   'coverage': [{'range': {'gte': 1585758976.0, 'lte': 1587061760.0}},\n",
       "    {'range': {'gte': 1587148032.0, 'lte': 1588446848.0}},\n",
       "    {'range': {'gte': 1588526848.0, 'lte': 1589912064.0}}],\n",
       "   'temporal_resolution': 'day'},\n",
       "  {'name': 'MODZCTA',\n",
       "   'structural_type': 'http://schema.org/Integer',\n",
       "   'semantic_types': [],\n",
       "   'unclean_values_ratio': 0.005640902544407105,\n",
       "   'num_distinct_values': 179,\n",
       "   'mean': 10828.056125528063,\n",
       "   'stddev': 1500.0918206015112,\n",
       "   'coverage': [{'range': {'gte': 10005.0, 'lte': 10471.0}},\n",
       "    {'range': {'gte': 11104.0, 'lte': 11436.0}}]},\n",
       "  {'name': 'Positive',\n",
       "   'structural_type': 'http://schema.org/Integer',\n",
       "   'semantic_types': [],\n",
       "   'unclean_values_ratio': 0.0,\n",
       "   'num_distinct_values': 2240,\n",
       "   'mean': 820.4588334133462,\n",
       "   'stddev': 682.1428565380272,\n",
       "   'coverage': [{'range': {'gte': 45.0, 'lte': 724.0}},\n",
       "    {'range': {'gte': 822.0, 'lte': 1654.0}},\n",
       "    {'range': {'gte': 1778.0, 'lte': 3702.0}}]},\n",
       "  {'name': 'Total',\n",
       "   'structural_type': 'http://schema.org/Integer',\n",
       "   'semantic_types': [],\n",
       "   'unclean_values_ratio': 0.0,\n",
       "   'num_distinct_values': 3605,\n",
       "   'mean': 1712.3076092174747,\n",
       "   'stddev': 1388.7722265509449,\n",
       "   'coverage': [{'range': {'gte': 130.0, 'lte': 1441.0}},\n",
       "    {'range': {'gte': 1594.0, 'lte': 3288.0}},\n",
       "    {'range': {'gte': 3552.0, 'lte': 6727.0}}]},\n",
       "  {'name': 'zcta_cum.perc_pos',\n",
       "   'structural_type': 'http://schema.org/Float',\n",
       "   'semantic_types': [],\n",
       "   'unclean_values_ratio': 0.00024003840614498319,\n",
       "   'missing_values_ratio': 0.021363418146903505,\n",
       "   'mean': 46.799170755642606,\n",
       "   'stddev': 11.677811383299277,\n",
       "   'coverage': [{'range': {'gte': 21.7, 'lte': 38.91}},\n",
       "    {'range': {'gte': 40.03, 'lte': 52.39}},\n",
       "    {'range': {'gte': 53.73, 'lte': 69.72}}]}],\n",
       " 'sample': 'date,MODZCTA,Positive,Total,zcta_cum.perc_pos\\r\\n2020-04-05T17:30:00-04:00,10453,619,983,62.97\\r\\n2020-04-08T18:03:33-04:00,10033,474,779,60.85\\r\\n2020-04-12T18:22:47-04:00,11232,267,395,67.59\\r\\n2020-04-12T18:22:47-04:00,11693,197,334,58.98\\r\\n2020-04-13T17:55:07-04:00,11412,706,1111,63.55\\r\\n2020-04-16T14:28:26-04:00,10044,103,224,45.98\\r\\n2020-04-24T14:28:13-04:00,11378,567,1124,50.44\\r\\n2020-04-26T13:57:39-04:00,11210,2819,1558,55.27\\r\\n2020-05-04T12:58:22-04:00,10451,1418,3008,47.14\\r\\n2020-05-04T12:58:22-04:00,10467,2931,6140,47.74\\r\\n2020-05-06T12:57:39-04:00,11234,2031,4469,45.45\\r\\n2020-05-08T12:58:01-04:00,10069,46,177,25.99\\r\\n2020-05-08T12:58:01-04:00,11109,46,204,22.55\\r\\n2020-05-09T12:28:07-04:00,10029,1613,3910,41.25\\r\\n2020-05-10T13:43:31-04:00,10018,196,610,32.13\\r\\n2020-05-13T12:27:39-04:00,10075,348,1246,27.93\\r\\n2020-05-13T12:27:39-04:00,11215,561,2038,27.53\\r\\n2020-05-13T12:27:39-04:00,11368,4082,7747,52.69\\r\\n2020-05-16T13:38:54-04:00,11109,46,269,17.1\\r\\n2020-05-17T13:44:09-04:00,11224,1072,2883,37.18\\r\\n',\n",
       " 'version': 'v0.6.2-108-g76d3e2a',\n",
       " 'token': '4ddbbfd4c940bc40739fe5d0670180de30927766'}"
      ]
     },
     "execution_count": 11,
     "metadata": {},
     "output_type": "execute_result"
    }
   ],
   "source": [
    "response = requests.post(\n",
    "    'https://auctus.vida-nyu.org/api/v1/profile',\n",
    "    files={'data': dataset}\n",
    ")\n",
    "response.raise_for_status()\n",
    "response.json()"
   ]
  },
  {
   "cell_type": "markdown",
   "metadata": {},
   "source": [
    "## You can also use our library locally"
   ]
  },
  {
   "cell_type": "code",
   "execution_count": 12,
   "metadata": {},
   "outputs": [],
   "source": [
    "%pip install datamart-profiler"
   ]
  },
  {
   "cell_type": "code",
   "execution_count": 13,
   "metadata": {},
   "outputs": [],
   "source": [
    "import datamart_profiler"
   ]
  },
  {
   "cell_type": "code",
   "execution_count": 14,
   "metadata": {
    "scrolled": true
   },
   "outputs": [
    {
     "data": {
      "text/plain": [
       "{'size': 398039,\n",
       " 'nb_rows': 8332,\n",
       " 'nb_profiled_rows': 8332,\n",
       " 'columns': [{'name': 'date',\n",
       "   'structural_type': 'http://schema.org/Text',\n",
       "   'semantic_types': ['http://schema.org/Enumeration',\n",
       "    'http://schema.org/DateTime'],\n",
       "   'num_distinct_values': 47,\n",
       "   'mean': 1587918818.918867,\n",
       "   'stddev': 1185682.3387396699,\n",
       "   'coverage': [{'range': {'gte': 1585758976.0, 'lte': 1587061760.0}},\n",
       "    {'range': {'gte': 1587148032.0, 'lte': 1588446848.0}},\n",
       "    {'range': {'gte': 1588526848.0, 'lte': 1589912064.0}}],\n",
       "   'temporal_resolution': 'day'},\n",
       "  {'name': 'MODZCTA',\n",
       "   'structural_type': 'http://schema.org/Integer',\n",
       "   'semantic_types': [],\n",
       "   'unclean_values_ratio': 0.005640902544407105,\n",
       "   'num_distinct_values': 179,\n",
       "   'mean': 10828.056125528063,\n",
       "   'stddev': 1500.0918206015112,\n",
       "   'coverage': [{'range': {'gte': 10005.0, 'lte': 10471.0}},\n",
       "    {'range': {'gte': 11104.0, 'lte': 11436.0}}]},\n",
       "  {'name': 'Positive',\n",
       "   'structural_type': 'http://schema.org/Integer',\n",
       "   'semantic_types': [],\n",
       "   'unclean_values_ratio': 0.0,\n",
       "   'num_distinct_values': 2240,\n",
       "   'mean': 820.4588334133462,\n",
       "   'stddev': 682.1428565380272,\n",
       "   'coverage': [{'range': {'gte': 45.0, 'lte': 724.0}},\n",
       "    {'range': {'gte': 822.0, 'lte': 1654.0}},\n",
       "    {'range': {'gte': 1778.0, 'lte': 3702.0}}]},\n",
       "  {'name': 'Total',\n",
       "   'structural_type': 'http://schema.org/Integer',\n",
       "   'semantic_types': [],\n",
       "   'unclean_values_ratio': 0.0,\n",
       "   'num_distinct_values': 3605,\n",
       "   'mean': 1712.3076092174747,\n",
       "   'stddev': 1388.7722265509449,\n",
       "   'coverage': [{'range': {'gte': 130.0, 'lte': 1441.0}},\n",
       "    {'range': {'gte': 1594.0, 'lte': 3288.0}},\n",
       "    {'range': {'gte': 3552.0, 'lte': 6727.0}}]},\n",
       "  {'name': 'zcta_cum.perc_pos',\n",
       "   'structural_type': 'http://schema.org/Float',\n",
       "   'semantic_types': [],\n",
       "   'unclean_values_ratio': 0.00024003840614498319,\n",
       "   'missing_values_ratio': 0.021363418146903505,\n",
       "   'mean': 46.799170755642606,\n",
       "   'stddev': 11.677811383299277,\n",
       "   'coverage': [{'range': {'gte': 21.7, 'lte': 38.91}},\n",
       "    {'range': {'gte': 40.03, 'lte': 52.39}},\n",
       "    {'range': {'gte': 53.73, 'lte': 69.72}}]}]}"
      ]
     },
     "execution_count": 14,
     "metadata": {},
     "output_type": "execute_result"
    }
   ],
   "source": [
    "datamart_profiler.process_dataset('tests-by-zcta.historical.csv')"
   ]
  }
 ],
 "metadata": {
  "kernelspec": {
   "display_name": "_rr_datamart",
   "language": "python",
   "name": "_rr_datamart"
  },
  "language_info": {
   "codemirror_mode": {
    "name": "ipython",
    "version": 3
   },
   "file_extension": ".py",
   "mimetype": "text/x-python",
   "name": "python",
   "nbconvert_exporter": "python",
   "pygments_lexer": "ipython3",
   "version": "3.8.2"
  }
 },
 "nbformat": 4,
 "nbformat_minor": 4
}
