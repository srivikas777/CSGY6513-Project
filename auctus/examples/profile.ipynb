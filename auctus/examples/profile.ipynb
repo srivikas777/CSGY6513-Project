{
 "cells": [
  {
   "cell_type": "code",
   "execution_count": 1,
   "metadata": {},
   "outputs": [],
   "source": [
    "import datamart_profiler\n",
    "import io\n",
    "import pandas"
   ]
  },
  {
   "cell_type": "code",
   "execution_count": 2,
   "metadata": {},
   "outputs": [],
   "source": [
    "csvfile = io.StringIO('''\\\n",
    "pickup latitude,pickup longitude,brand,description,tip\n",
    "40.734746,-74.000077,mazda,black suv with tinted windows,0.0\n",
    "40.726640,-73.993186,hyundai,grey ish convertible pickup,13.333\n",
    "40.735108,-73.996996,mazda,dark grey compact suv,8.5\n",
    "40.729115,-74.001726,hyundai,black camry with lyft sign,5.667\n",
    "40.728896,-73.998542,kia,bright green box car,10.0\n",
    "''')"
   ]
  },
  {
   "cell_type": "code",
   "execution_count": 3,
   "metadata": {},
   "outputs": [],
   "source": [
    "metadata = datamart_profiler.process_dataset(csvfile)\n",
    "# Input can be a file object, a path, or a pandas.DataFrame"
   ]
  },
  {
   "cell_type": "code",
   "execution_count": 4,
   "metadata": {},
   "outputs": [
    {
     "data": {
      "text/plain": [
       "['size',\n",
       " 'nb_rows',\n",
       " 'nb_profiled_rows',\n",
       " 'columns',\n",
       " 'spatial_coverage',\n",
       " 'attribute_keywords',\n",
       " 'types']"
      ]
     },
     "execution_count": 4,
     "metadata": {},
     "output_type": "execute_result"
    }
   ],
   "source": [
    "list(metadata.keys())"
   ]
  },
  {
   "cell_type": "code",
   "execution_count": 5,
   "metadata": {},
   "outputs": [
    {
     "data": {
      "text/plain": [
       "['numerical', 'spatial']"
      ]
     },
     "execution_count": 5,
     "metadata": {},
     "output_type": "execute_result"
    }
   ],
   "source": [
    "# Overall dataset type\n",
    "metadata['types']"
   ]
  },
  {
   "cell_type": "code",
   "execution_count": 6,
   "metadata": {},
   "outputs": [
    {
     "data": {
      "text/plain": [
       "[{'name': 'pickup latitude',\n",
       "  'structural_type': 'http://schema.org/Float',\n",
       "  'semantic_types': ['http://schema.org/latitude'],\n",
       "  'unclean_values_ratio': 0.0,\n",
       "  'mean': 40.730901,\n",
       "  'stddev': 0.003401435461682556},\n",
       " {'name': 'pickup longitude',\n",
       "  'structural_type': 'http://schema.org/Float',\n",
       "  'semantic_types': ['http://schema.org/longitude'],\n",
       "  'unclean_values_ratio': 0.0,\n",
       "  'mean': -73.9981054,\n",
       "  'stddev': 0.002919514863812805},\n",
       " {'name': 'brand',\n",
       "  'structural_type': 'http://schema.org/Text',\n",
       "  'semantic_types': [],\n",
       "  'num_distinct_values': 3},\n",
       " {'name': 'description',\n",
       "  'structural_type': 'http://schema.org/Text',\n",
       "  'semantic_types': ['http://schema.org/Text']},\n",
       " {'name': 'tip',\n",
       "  'structural_type': 'http://schema.org/Float',\n",
       "  'semantic_types': [],\n",
       "  'unclean_values_ratio': 0.0,\n",
       "  'mean': 7.5,\n",
       "  'stddev': 4.49185436095161,\n",
       "  'coverage': [{'range': {'gte': 0.0, 'lte': 0.0}},\n",
       "   {'range': {'gte': 5.667, 'lte': 8.5}},\n",
       "   {'range': {'gte': 10.0, 'lte': 13.333}}]}]"
      ]
     },
     "execution_count": 6,
     "metadata": {},
     "output_type": "execute_result"
    }
   ],
   "source": [
    "# Column information\n",
    "metadata['columns']\n",
    "# 'structural_type' is the programmatic type to use to store the data\n",
    "#   integer, float, geo point, geo polygon, string\n",
    "# 'semantic_types' provide information on the meaning of the data\n",
    "#   boolean, categorical, natural language, administrative area, identifier, date time, latitude, longitude\n",
    "# Other information:\n",
    "#   - ratio of missing/unclean values\n",
    "#   - statistical information (mean/stddev) for numerical columns\n",
    "#   - number of distinct values for categorical columns"
   ]
  },
  {
   "cell_type": "code",
   "execution_count": 7,
   "metadata": {},
   "outputs": [
    {
     "data": {
      "text/plain": [
       "[{'type': 'latlong',\n",
       "  'column_names': ['pickup latitude', 'pickup longitude'],\n",
       "  'column_indexes': [0, 1],\n",
       "  'ranges': [{'range': {'type': 'envelope',\n",
       "     'coordinates': [[-74.001726, 40.729115], [-73.998542, 40.728896]]}},\n",
       "   {'range': {'type': 'envelope',\n",
       "     'coordinates': [[-74.000077, 40.735108], [-73.996996, 40.734746]]}},\n",
       "   {'range': {'type': 'envelope',\n",
       "     'coordinates': [[-73.993286, 40.72674000000001],\n",
       "      [-73.99308599999999, 40.72654]]}}]}]"
      ]
     },
     "execution_count": 7,
     "metadata": {},
     "output_type": "execute_result"
    }
   ],
   "source": [
    "# Spatial coverage information\n",
    "metadata['spatial_coverage']\n",
    "# This can be extracted from a pair of latitude/longitude columns, point formats (WKT, ...),\n",
    "# named administrative areas, or full addresses (that one requires a Nominatim server)"
   ]
  },
  {
   "cell_type": "code",
   "execution_count": 8,
   "metadata": {},
   "outputs": [],
   "source": [
    "# Example using datamart-geo to identify named areas\n",
    "import datamart_geo\n",
    "geo_data = datamart_geo.GeoData.download()"
   ]
  },
  {
   "cell_type": "code",
   "execution_count": 9,
   "metadata": {},
   "outputs": [
    {
     "data": {
      "text/html": [
       "<div>\n",
       "<style scoped>\n",
       "    .dataframe tbody tr th:only-of-type {\n",
       "        vertical-align: middle;\n",
       "    }\n",
       "\n",
       "    .dataframe tbody tr th {\n",
       "        vertical-align: top;\n",
       "    }\n",
       "\n",
       "    .dataframe thead th {\n",
       "        text-align: right;\n",
       "    }\n",
       "</style>\n",
       "<table border=\"1\" class=\"dataframe\">\n",
       "  <thead>\n",
       "    <tr style=\"text-align: right;\">\n",
       "      <th></th>\n",
       "      <th>place</th>\n",
       "      <th>favorite</th>\n",
       "    </tr>\n",
       "  </thead>\n",
       "  <tbody>\n",
       "    <tr>\n",
       "      <th>0</th>\n",
       "      <td>france</td>\n",
       "      <td>Brittany</td>\n",
       "    </tr>\n",
       "    <tr>\n",
       "      <th>1</th>\n",
       "      <td>france</td>\n",
       "      <td>Normandie</td>\n",
       "    </tr>\n",
       "    <tr>\n",
       "      <th>2</th>\n",
       "      <td>italy</td>\n",
       "      <td>Hamburg</td>\n",
       "    </tr>\n",
       "    <tr>\n",
       "      <th>3</th>\n",
       "      <td>germany</td>\n",
       "      <td>Bavaria</td>\n",
       "    </tr>\n",
       "  </tbody>\n",
       "</table>\n",
       "</div>"
      ],
      "text/plain": [
       "     place   favorite\n",
       "0   france   Brittany\n",
       "1   france  Normandie\n",
       "2    italy    Hamburg\n",
       "3  germany    Bavaria"
      ]
     },
     "execution_count": 9,
     "metadata": {},
     "output_type": "execute_result"
    }
   ],
   "source": [
    "# Also show-cases profiling a DataFrame object\n",
    "df = pandas.DataFrame({\n",
    "    'place': ['france', 'france', 'italy', 'germany'],\n",
    "    'favorite': ['Brittany', 'Normandie', 'Hamburg', 'Bavaria'],\n",
    "})\n",
    "df"
   ]
  },
  {
   "cell_type": "code",
   "execution_count": 10,
   "metadata": {},
   "outputs": [
    {
     "data": {
      "text/plain": [
       "{'nb_rows': 4,\n",
       " 'nb_profiled_rows': 4,\n",
       " 'columns': [{'name': 'place',\n",
       "   'structural_type': 'http://schema.org/Text',\n",
       "   'semantic_types': ['http://schema.org/AdministrativeArea',\n",
       "    'http://schema.org/Enumeration'],\n",
       "   'num_distinct_values': 3,\n",
       "   'admin_area_level': 0},\n",
       "  {'name': 'favorite',\n",
       "   'structural_type': 'http://schema.org/Text',\n",
       "   'semantic_types': ['http://schema.org/AdministrativeArea',\n",
       "    'http://schema.org/Enumeration'],\n",
       "   'num_distinct_values': 4,\n",
       "   'admin_area_level': 1}],\n",
       " 'spatial_coverage': [{'type': 'admin',\n",
       "   'column_names': ['place'],\n",
       "   'column_indexes': [0],\n",
       "   'ranges': [{'range': {'type': 'envelope',\n",
       "      'coordinates': [[-61.797841, 55.065334], [55.854503, -21.370782]]}}]},\n",
       "  {'type': 'admin',\n",
       "   'column_names': ['favorite'],\n",
       "   'column_indexes': [1],\n",
       "   'ranges': [{'range': {'type': 'envelope',\n",
       "      'coordinates': [[8.97659, 50.56286], [13.81686, 47.27112]]}}]}],\n",
       " 'attribute_keywords': ['place', 'favorite'],\n",
       " 'types': ['spatial']}"
      ]
     },
     "execution_count": 10,
     "metadata": {},
     "output_type": "execute_result"
    }
   ],
   "source": [
    "datamart_profiler.process_dataset(df, geo_data=geo_data)"
   ]
  },
  {
   "cell_type": "code",
   "execution_count": 11,
   "metadata": {},
   "outputs": [],
   "source": [
    "# Note that envelopes are computed, and the AdministrativeArea type is applied (with 'admin_area_level')\n",
    "# See also https://gitlab.com/ViDA-NYU/auctus/datamart-geo/-/blob/master/test.ipynb"
   ]
  }
 ],
 "metadata": {
  "kernelspec": {
   "display_name": "_rr_datamart",
   "language": "python",
   "name": "_rr_datamart"
  },
  "language_info": {
   "codemirror_mode": {
    "name": "ipython",
    "version": 3
   },
   "file_extension": ".py",
   "mimetype": "text/x-python",
   "name": "python",
   "nbconvert_exporter": "python",
   "pygments_lexer": "ipython3",
   "version": "3.8.5"
  }
 },
 "nbformat": 4,
 "nbformat_minor": 4
}
